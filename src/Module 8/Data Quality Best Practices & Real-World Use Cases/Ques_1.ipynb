{
 "cells": [
  {
   "cell_type": "markdown",
   "metadata": {},
   "source": [
    "### Define Data Quality KPIs\n",
    "\n",
    "**Task 1**: Identify Relevant KPIs\n",
    "\n",
    "**Objective**: Develop KPIs that align with organizational goals.\n",
    "\n",
    "**Steps**:\n",
    "1. Choose a dataset from a domain of your interest (e.g., sales data, healthcare records, or transaction logs).\n",
    "2. Identify three KPIs that would be crucial for assessing the data quality in your chosen dataset. Consider accuracy, completeness, and timeliness.\n",
    "3. Document why each KPI is important for maintaining high-quality data in your given context."
   ]
  },
  {
   "cell_type": "code",
   "execution_count": null,
   "metadata": {},
   "outputs": [],
   "source": [
    "# Write your code from here"
   ]
  },
  {
   "cell_type": "markdown",
   "metadata": {},
   "source": [
    "**Task 2**: Develop a KPI Dashboard\n",
    "\n",
    "**Objective**: Visualize your KPIs for better monitoring.\n",
    "\n",
    "**Steps**:\n",
    "1. Use a tool like Excel or a BI tool (e.g., Tableau, Power BI) to create a simple dashboard.\n",
    "2. Input sample data and visualize your chosen KPIs, showing how they would be monitored.\n",
    "3. Share your dashboard with peers and gather feedback on KPI relevance and clarity."
   ]
  },
  {
   "cell_type": "code",
   "execution_count": null,
   "metadata": {},
   "outputs": [],
   "source": [
    "# Write your code from here"
   ]
  }
 ],
 "metadata": {
  "kernelspec": {
   "display_name": "base",
   "language": "python",
   "name": "python3"
  },
  "language_info": {
   "name": "python",
   "version": "3.12.7"
  }
 },
 "nbformat": 4,
 "nbformat_minor": 2
}
