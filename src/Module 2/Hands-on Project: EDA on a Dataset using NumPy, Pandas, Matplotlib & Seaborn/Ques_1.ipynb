{
 "cells": [
  {
   "cell_type": "code",
   "execution_count": null,
   "metadata": {},
   "outputs": [],
   "source": [
    "# Title: Load & Examine a Basic Dataset\n",
    "# Description: Load an example dataset such as the Iris dataset and perform basic exploration."
   ]
  }
 ],
 "metadata": {
  "language_info": {
   "name": "python"
  }
 },
 "nbformat": 4,
 "nbformat_minor": 2
}
