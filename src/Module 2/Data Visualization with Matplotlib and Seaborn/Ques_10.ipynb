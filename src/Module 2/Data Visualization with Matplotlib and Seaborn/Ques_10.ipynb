{
 "cells": [
  {
   "cell_type": "code",
   "execution_count": null,
   "metadata": {},
   "outputs": [],
   "source": [
    "# Advanced Seaborn Plot with DataFrame\n",
    "# Description: Create a Seaborn plot using a DataFrame that visualizes two features in a single plot. Use tips\n",
    "# dataset available in Seaborn's sample datasets."
   ]
  }
 ],
 "metadata": {
  "language_info": {
   "name": "python"
  }
 },
 "nbformat": 4,
 "nbformat_minor": 2
}
