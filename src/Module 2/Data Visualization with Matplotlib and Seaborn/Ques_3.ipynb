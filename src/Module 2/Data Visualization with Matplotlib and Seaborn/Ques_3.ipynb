{
 "cells": [
  {
   "cell_type": "code",
   "execution_count": null,
   "metadata": {},
   "outputs": [],
   "source": [
    "# Constructing a Histogram with Matplotlib\n",
    "# Description: Create a histogram to observe the distribution of marks obtained by students in a class: Marks\n",
    "# [23, 45, 56, 78, 89, 90, 67, 88, 76, 59]."
   ]
  }
 ],
 "metadata": {
  "language_info": {
   "name": "python"
  }
 },
 "nbformat": 4,
 "nbformat_minor": 2
}
