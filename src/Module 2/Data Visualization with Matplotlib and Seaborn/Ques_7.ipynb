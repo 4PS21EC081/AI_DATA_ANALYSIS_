{
 "cells": [
  {
   "cell_type": "code",
   "execution_count": null,
   "metadata": {},
   "outputs": [],
   "source": [
    "# Advanced Scatter Plot with Seaborn\n",
    "# Description: Using Seaborn, enhance the scatter plot for height vs. weight by adding size for points based\n",
    "# on data: Size [10, 15, 13, 18, 12]."
   ]
  }
 ],
 "metadata": {
  "language_info": {
   "name": "python"
  }
 },
 "nbformat": 4,
 "nbformat_minor": 2
}
