{
 "cells": [
  {
   "cell_type": "code",
   "execution_count": null,
   "metadata": {},
   "outputs": [],
   "source": [
    "# Seaborn Histogram with KDE\n",
    "# Description: Create a histogram using Seaborn that includes a Kernel Density Estimate (KDE) for marks\n",
    "# data: [23, 45, 56, 78, 89, 90, 67, 88, 76, 59]."
   ]
  }
 ],
 "metadata": {
  "language_info": {
   "name": "python"
  }
 },
 "nbformat": 4,
 "nbformat_minor": 2
}
