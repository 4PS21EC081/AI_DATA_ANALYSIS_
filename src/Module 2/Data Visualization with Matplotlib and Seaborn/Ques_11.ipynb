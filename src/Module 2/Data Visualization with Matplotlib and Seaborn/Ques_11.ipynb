{
 "cells": [
  {
   "cell_type": "code",
   "execution_count": null,
   "metadata": {},
   "outputs": [],
   "source": [
    "# Scatter Plot of Variable Relationships\n",
    "# Description: Use Seaborn to create a scatter plot showing the relationship between two\n",
    "# variables."
   ]
  }
 ],
 "metadata": {
  "language_info": {
   "name": "python"
  }
 },
 "nbformat": 4,
 "nbformat_minor": 2
}
