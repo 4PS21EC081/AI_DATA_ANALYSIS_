{
 "cells": [
  {
   "cell_type": "code",
   "execution_count": null,
   "metadata": {},
   "outputs": [],
   "source": [
    "# Matplotlib Subplots for Multiple Data Sets\n",
    "# Description: Create subplots using Matplotlib to display the bar plot for product sales and the scatter plot for\n",
    "# height vs. weight side by side."
   ]
  }
 ],
 "metadata": {
  "language_info": {
   "name": "python"
  }
 },
 "nbformat": 4,
 "nbformat_minor": 2
}
