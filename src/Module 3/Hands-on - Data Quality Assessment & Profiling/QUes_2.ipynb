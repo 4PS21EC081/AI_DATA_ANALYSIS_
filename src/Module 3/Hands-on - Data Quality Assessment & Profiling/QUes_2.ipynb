{
 "cells": [
  {
   "cell_type": "code",
   "execution_count": null,
   "metadata": {},
   "outputs": [],
   "source": [
    "# Part 1: Load a Dataset & Check Missing Values\n",
    "\n",
    "# Task 1: Titanic Dataset\n",
    "# - Load the dataset using Pandas.\n",
    "# - Check for missing values in the 'Age' column.\n",
    "\n",
    "\n",
    "\n",
    "\n",
    "\n",
    "\n",
    "\n",
    "# Part 2: Identify Duplicates & Inconsistencies\n",
    "\n",
    "# Task 2: Duplicate Rows in Titanic Dataset\n",
    "# - Identify any duplicate rows in the dataset.\n",
    "\n",
    "\n",
    "\n",
    "\n",
    "\n",
    "\n",
    "\n",
    "\n",
    "\n",
    "\n",
    "# Part 3: Generate a Data Quality Report\n",
    "\n",
    "# Task 3: Titanic Dataset Overview\n",
    "# - Create a simple report of missing values, duplicates, and some basic statistics for the Titanic dataset.\n",
    "\n",
    "\n",
    "\n",
    "\n",
    "\n"
   ]
  }
 ],
 "metadata": {
  "language_info": {
   "name": "python"
  }
 },
 "nbformat": 4,
 "nbformat_minor": 2
}
