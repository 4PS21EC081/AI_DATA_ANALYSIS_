{
 "cells": [
  {
   "cell_type": "code",
   "execution_count": null,
   "metadata": {},
   "outputs": [],
   "source": [
    "# Part 1: Detect & Handle Missing Data\n",
    "\n",
    "# Task 1: Detect Missing Data\n",
    "#     1. Load the Data:\n",
    "#     2. Detect Missing Data:\n",
    "\n",
    "\n",
    "\n",
    "# Task 2: Handle Missing Data by Dropping\n",
    "#     1. Drop Rows with Missing Values:\n",
    "        \n",
    "        \n",
    "\n",
    "# Task 3: Handle Missing Data by Imputation\n",
    "#     1. Fill Missing Values:\n",
    "        \n",
    "        "
   ]
  }
 ],
 "metadata": {
  "language_info": {
   "name": "python"
  }
 },
 "nbformat": 4,
 "nbformat_minor": 2
}
