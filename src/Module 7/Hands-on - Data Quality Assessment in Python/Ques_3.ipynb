{
 "cells": [
  {
   "cell_type": "markdown",
   "metadata": {},
   "source": [
    "## Check Uniqueness & Validity\n",
    "\n",
    "**Objective**: Evaluate data quality by checking for uniqueness and validity of data entries.\n",
    "\n",
    "For this activity, you will use a sample dataset students.csv that contains the following\n",
    "columns: ID , Name , Age , Grade , Email .\n",
    "\n",
    "**Steps**:\n",
    "1. Check Uniqueness\n",
    "    - Unique IDs\n",
    "    - Unique Email Addresses\n",
    "    - Unique Combination\n",
    "\n",
    "2. Check Validity\n",
    "    - Validate Age Range\n",
    "    - Validate Grade Scale\n",
    "    - Validate Name Format"
   ]
  },
  {
   "cell_type": "code",
   "execution_count": null,
   "metadata": {},
   "outputs": [],
   "source": [
    "# Write your code from here"
   ]
  }
 ],
 "metadata": {
  "kernelspec": {
   "display_name": "base",
   "language": "python",
   "name": "python3"
  },
  "language_info": {
   "name": "python",
   "version": "3.12.7"
  }
 },
 "nbformat": 4,
 "nbformat_minor": 2
}
