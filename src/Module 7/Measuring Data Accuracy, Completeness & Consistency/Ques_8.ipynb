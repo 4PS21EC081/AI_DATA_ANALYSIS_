{
 "cells": [
  {
   "cell_type": "markdown",
   "metadata": {},
   "source": [
    "# Measuring Data Accuracy\n",
    "\n",
    "**Activity Overview**: Assess data accuracy by comparing it to a trusted source and detecting incorrect values or mismatches.\n",
    "\n",
    "## Title: Product Pricing\n",
    "\n",
    "**Task**: Compare a dataset of product prices with the latest official price list.\n",
    "\n",
    "**Steps**:\n",
    "1. Obtain the latest product price list from the official company website.\n",
    "2. Compare the dataset's product prices against the verified list.\n",
    "3. Identify any discrepancies and mark them for correction."
   ]
  },
  {
   "cell_type": "code",
   "execution_count": null,
   "metadata": {},
   "outputs": [],
   "source": [
    "# Write your code from here"
   ]
  }
 ],
 "metadata": {
  "kernelspec": {
   "display_name": "base",
   "language": "python",
   "name": "python3"
  },
  "language_info": {
   "name": "python",
   "version": "3.12.7"
  }
 },
 "nbformat": 4,
 "nbformat_minor": 2
}
