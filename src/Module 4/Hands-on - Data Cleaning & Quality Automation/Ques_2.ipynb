{
 "cells": [
  {
   "cell_type": "code",
   "execution_count": null,
   "metadata": {},
   "outputs": [],
   "source": [
    "# Part 1: Handle Missing Values & Duplicates\n",
    "\n",
    "    # Step-by-Step Guidelines:\n",
    "# 1. Load the Data: First, ensure you have pandas installed and import it.\n",
    "# 2. Handling Missing Values\n",
    "#     1. Identify Missing Values:\n",
    "#     2. Fill Missing Values:\n",
    "# 3. Handling Duplicates\n",
    "#     1. Identify Duplicates:\n",
    "#     2. Remove Duplicates:\n",
    "# 4. Combined Practice on a New Dataset\n",
    "#     1. New Sample Data:\n",
    "#     2. Handling Missing Values:\n",
    "#     3. Remove Duplicates:\n",
    "        \n",
    "        \n",
    "        \n",
    "        \n",
    "        \n",
    "        \n",
    "        \n",
    "        \n",
    "        "
   ]
  },
  {
   "cell_type": "code",
   "execution_count": null,
   "metadata": {},
   "outputs": [],
   "source": [
    "# Part 2: Apply Standardization & Formatting Rules\n",
    "\n",
    "#     Step-by-Step Guidelines:\n",
    "# 1. Standardize Text Data\n",
    "#     1. Convert All Names to Lowercase:\n",
    "# 2. Format Numerical Data\n",
    "#     1. Round Age Column to the Nearest Integer:\n",
    "# 3. Combined Practice on Another Dataset\n",
    "#     1. New Sample Data:\n",
    "#     2. Standardize Product Names:\n",
    "#     3. Format Prices to Two Decimal Places:\n",
    "        \n",
    "        \n",
    "        \n",
    "        \n",
    "        "
   ]
  }
 ],
 "metadata": {
  "language_info": {
   "name": "python"
  }
 },
 "nbformat": 4,
 "nbformat_minor": 2
}
