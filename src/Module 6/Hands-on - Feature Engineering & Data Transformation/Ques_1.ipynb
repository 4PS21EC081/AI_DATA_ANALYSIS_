{
 "cells": [
  {
   "cell_type": "code",
   "execution_count": null,
   "metadata": {},
   "outputs": [],
   "source": [
    "# Detect & Remove Outliers using IQR Method\n",
    "\n",
    "# Objective: Learn to identify and remove outliers from a dataset using the Interquartile Range (IQR) method.\n",
    "# Instructions:\n",
    "# For each example, perform the following steps:\n",
    "#     1. Load the Dataset: Load the dataset into your environment. You can use pandas to read the CSV file.\n",
    "#     2. Calculate IQR: Calculate the first quartile (Q1), third quartile (Q3), and the IQR for the specified column.\n",
    "#     3. Identify Outliers: Determine which data points are considered outliers.\n",
    "#     4. Remove Outliers: Remove the outliers from the dataset.\n",
    "#     5. Verify: Ensure the outliers are removed by checking the size or summary statistics of the dataset before and after the removal.\n",
    "    \n",
    "    \n",
    "    \n",
    "\n",
    "# Task:\n",
    "#     Dataset: sales_data.csv(get it by your own it includes the column of Monthly_Sales)\n",
    "#     Column to analyze: Monthly_Sales\n",
    "#     Steps:\n",
    "#         1. Load sales_data.csv .\n",
    "#         2. Calculate Q1, Q3, and IQR for Monthly_Sales .\n",
    "#         3. Identify outliers.\n",
    "#         4. Remove the outliers.\n",
    "#         5. Check the number of rows removed.\n",
    "\n",
    "\n",
    "\n",
    "\n",
    "\n"
   ]
  }
 ],
 "metadata": {
  "language_info": {
   "name": "python"
  }
 },
 "nbformat": 4,
 "nbformat_minor": 2
}
