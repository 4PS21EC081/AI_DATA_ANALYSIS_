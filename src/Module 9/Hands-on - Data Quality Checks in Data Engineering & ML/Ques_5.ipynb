{
 "cells": [
  {
   "cell_type": "markdown",
   "metadata": {},
   "source": [
    "## Detect Schema Mismatches in Data Pipelines\n",
    "**Objective**: Identify and resolve schema mismatches that commonly occur in data pipelines.\n",
    "\n",
    "**Task**: Missing Column\n",
    "\n",
    "1. Load the source DataFrame with the below schema:\n",
    "    - id : Integer\n",
    "    - email : String\n",
    "    - signup_date : Date\n",
    "2. Load the target DataFrame with the below schema:\n",
    "    - id : Integer\n",
    "    - email : String\n",
    "3. Implement a check to identify any columns that are present in the source DataFrame but missing in the target.\n",
    "4. Add the missing `signup_date` column to the target DataFrame."
   ]
  },
  {
   "cell_type": "code",
   "execution_count": null,
   "metadata": {},
   "outputs": [],
   "source": [
    "# write your code from here"
   ]
  }
 ],
 "metadata": {
  "kernelspec": {
   "display_name": "base",
   "language": "python",
   "name": "python3"
  },
  "language_info": {
   "name": "python",
   "version": "3.12.7"
  }
 },
 "nbformat": 4,
 "nbformat_minor": 2
}
