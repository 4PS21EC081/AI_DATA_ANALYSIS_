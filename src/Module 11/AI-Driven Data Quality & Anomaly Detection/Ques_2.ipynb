{
 "cells": [
  {
   "cell_type": "markdown",
   "metadata": {},
   "source": [
    "# Automated Anomaly Detection\n",
    "**Objective**: Understand and practice automated anomaly detection using various techniques.\n",
    "\n",
    "**Task**: Anomaly Detection with Isolation Forest\n",
    "\n",
    "**Steps**:\n",
    "1. Data Set: Obtain a dataset of server response times.\n",
    "2. Train Model: Use Isolation Forest to train a model on the response time data.\n",
    "3. Detect Anomalies: Predict which response times are anomalies.\n",
    "4. Evaluate Results: Assess the number of anomalies detected."
   ]
  },
  {
   "cell_type": "code",
   "execution_count": null,
   "metadata": {},
   "outputs": [],
   "source": [
    "# write your code from here\n"
   ]
  }
 ],
 "metadata": {
  "kernelspec": {
   "display_name": "base",
   "language": "python",
   "name": "python3"
  },
  "language_info": {
   "name": "python",
   "version": "3.12.7"
  }
 },
 "nbformat": 4,
 "nbformat_minor": 2
}
