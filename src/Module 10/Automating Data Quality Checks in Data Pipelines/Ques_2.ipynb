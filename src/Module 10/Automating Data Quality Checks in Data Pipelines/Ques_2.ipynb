{
 "cells": [
  {
   "cell_type": "markdown",
   "metadata": {},
   "source": [
    "## Automated Data Quality Monitoring\n",
    "**Objective**: Use Great Expectations to perform data profiling and write validation rules.\n",
    "\n",
    "1. Data Profiling with Great Expectations\n",
    "### Profile a CSV dataset containing customer information to inspect distribution patterns of 'Age' and 'Income' columns.\n",
    "- Load the dataset using Great Expectations and create a data context.\n",
    "- Generate a data asset to inspect the summary statistics.\n",
    "- View the generated expectation suite to analyze data distributions."
   ]
  },
  {
   "cell_type": "code",
   "execution_count": null,
   "metadata": {},
   "outputs": [],
   "source": [
    "# write your code from here"
   ]
  },
  {
   "cell_type": "markdown",
   "metadata": {},
   "source": [
    "2. Writing Validation Rules for Data Ingestion\n",
    "### Write validation rules for a CSV file to ensure the 'Date' column follows a specific date format.\n",
    "- Utilize expect_column_values_to_match_regex to enforce date format validation.\n",
    "- Run the validation and interpret the output."
   ]
  },
  {
   "cell_type": "code",
   "execution_count": null,
   "metadata": {},
   "outputs": [],
   "source": [
    "# write your code from here"
   ]
  }
 ],
 "metadata": {
  "kernelspec": {
   "display_name": "base",
   "language": "python",
   "name": "python3"
  },
  "language_info": {
   "name": "python",
   "version": "3.12.7"
  }
 },
 "nbformat": 4,
 "nbformat_minor": 2
}
