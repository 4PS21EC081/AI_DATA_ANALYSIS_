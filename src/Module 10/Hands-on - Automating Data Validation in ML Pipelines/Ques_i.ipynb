{
 "cells": [
  {
   "cell_type": "markdown",
   "metadata": {},
   "source": [
    "### Using Great Expectations for Automated Data Checks\n",
    "**Objective**: Use Great Expectations to perform data validation steps on a dataset.\n",
    "\n",
    "**Task 1**: Validate Column Existence\n",
    "\n",
    "**Steps**:\n",
    "- Load your dataset using a Pandas DataFrame.\n",
    "- Use Great Expectations to setup an expectation suite.\n",
    "- Create an expectation to confirm that a specific column (e.g., customer_id ) exists in your dataset.\n",
    "- Run the expectation and observe the results."
   ]
  },
  {
   "cell_type": "code",
   "execution_count": null,
   "metadata": {},
   "outputs": [],
   "source": [
    "# write your code from here"
   ]
  },
  {
   "cell_type": "markdown",
   "metadata": {},
   "source": [
    "**Task 2**: Validate Column Data Types\n",
    "\n",
    "**Steps**:\n",
    "- Using the same dataset setup, create an expectation to check that a numeric column\n",
    "(e.g., purchase_amount ) contains only float values.\n",
    "- Identify a numeric column in your dataset.\n",
    "- Use Great Expectations to create and validate an expectation that checks the column's data type is correct.\n",
    "- Run your expectation and check if it passes for your data."
   ]
  },
  {
   "cell_type": "code",
   "execution_count": null,
   "metadata": {},
   "outputs": [],
   "source": [
    "# write your code from here"
   ]
  },
  {
   "cell_type": "markdown",
   "metadata": {},
   "source": [
    "**Task 3**: Validate Range of Values\n",
    "\n",
    "**Steps**:\n",
    "- Set an expectation using Great Expectations to ensure that a column (e.g., age ) values\n",
    "are between 18 and 65.\n",
    "- Identify a column in your dataset where values fall within a specific range.\n",
    "- Implement a range-based expectation to check this column and validate your dataset.\n",
    "- Observe and interpret the result of your expectation."
   ]
  },
  {
   "cell_type": "code",
   "execution_count": null,
   "metadata": {},
   "outputs": [],
   "source": [
    "# write your code from here"
   ]
  }
 ],
 "metadata": {
  "kernelspec": {
   "display_name": "base",
   "language": "python",
   "name": "python3"
  },
  "language_info": {
   "name": "python",
   "version": "3.12.7"
  }
 },
 "nbformat": 4,
 "nbformat_minor": 2
}
